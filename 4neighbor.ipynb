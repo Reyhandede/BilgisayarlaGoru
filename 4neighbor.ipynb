{
  "cells": [
    {
      "cell_type": "markdown",
      "source": [
        "**semboller.pgm veya labirent.pgm için kulllanmak istediğinizde foto değişkeninin içeriğini değiştirin.**"
      ],
      "metadata": {
        "id": "jprgl7GpO_xP"
      }
    },
    {
      "cell_type": "code",
      "execution_count": 11,
      "metadata": {
        "id": "j_2gEJ0jYLmY"
      },
      "outputs": [],
      "source": [
        "import numpy as np"
      ]
    },
    {
      "cell_type": "code",
      "execution_count": 12,
      "metadata": {
        "id": "lGcAY1Y7YLmc"
      },
      "outputs": [],
      "source": [
        "from skimage import io\n",
        "from matplotlib import pyplot as plt\n"
      ]
    },
    {
      "cell_type": "code",
      "execution_count": 13,
      "metadata": {
        "id": "z2Wk0pDkYLmd"
      },
      "outputs": [],
      "source": [
        "import sys\n",
        "sys.setrecursionlimit(10000)\n",
        "foto=\"semboller\"\n"
      ]
    },
    {
      "cell_type": "code",
      "execution_count": 14,
      "metadata": {
        "id": "rKftpa_ZYLme"
      },
      "outputs": [],
      "source": [
        "def readpgm(name):#pgm formatında olan resimleri okumak için yazılmış olan fonksiyon\n",
        "    with open(name) as f:\n",
        "        lines = f.readlines()\n",
        "\n",
        "    # Yorum satırlarını yok sayar.\n",
        "    for l in list(lines):\n",
        "        if l[0] == '#':\n",
        "            lines.remove(l)\n",
        "\n",
        "    # ASCII formatı (P2) olduğundan emin olur.\n",
        "    assert lines[0].strip() == 'P2' \n",
        "\n",
        "    # Verileri bir tamsayı listesine dönüştürür.\n",
        "    data = []\n",
        "    for line in lines[1:]:\n",
        "        data.extend([int(c) for c in line.split()])\n",
        "\n",
        "    return (np.array(data[3:]),(data[1],data[0]),data[2])\n"
      ]
    },
    {
      "cell_type": "code",
      "execution_count": 15,
      "metadata": {
        "id": "xhwgCR9UYLme"
      },
      "outputs": [],
      "source": [
        "#Görüntüyü olumsuzlayın (1 pikselin tümünü –1 yapın)\n",
        "dirx = [+1,0,-1,0]\n",
        "diry = [0,+1,0,-1]\n",
        "data = readpgm('%s.pgm'%(foto))\n",
        "image=np.reshape(data[0],data[1])\n",
        "row, column = image.shape\n",
        "image_thresh = np.array(np.zeros([row,column]))\n",
        "for i in range(0,row):\n",
        "    for j in range(0,column):\n",
        "        if(image[i,j]>180):\n",
        "            image_thresh[i,j] = -1\n",
        "        else:\n",
        "            image_thresh[i,j] = 0"
      ]
    },
    {
      "cell_type": "code",
      "execution_count": 16,
      "metadata": {
        "id": "1MsFZHYEYLmg"
      },
      "outputs": [],
      "source": [
        "#–1 pikseli arayın ve bulun, etiketleyin ve komşu piksellerini (4- veya 8-) –1 ile bulun ve aynı etiketi atayın.\n",
        "def search(x,y,label):\n",
        "    if(x < 0 or x == row):\n",
        "        return;\n",
        "    if(y<0 or y == column):\n",
        "        return;\n",
        "    if( image_thresh[x,y]!=-1):\n",
        "        return;\n",
        "    image_thresh[x,y] = label\n",
        "    for dir in range(0,4):\n",
        "        search(x + dirx[dir],y + diry[dir],label)"
      ]
    },
    {
      "cell_type": "code",
      "execution_count": 18,
      "metadata": {
        "id": "xkB5qUKPYLmh"
      },
      "outputs": [],
      "source": [
        "#Bileşenleri çözmek (birleştirmek veya bölmek) için yinelemeli olarak uygulayın.\n",
        "def find_component(image_thresh,label = 0):\n",
        "    for i in range(0,row):\n",
        "        for j in range(0,column):\n",
        "            if(image_thresh[i,j] == -1):\n",
        "                label = label + 1\n",
        "                search(i,j,label)"
      ]
    },
    {
      "cell_type": "code",
      "execution_count": 19,
      "metadata": {
        "id": "mQvzZI2_YLmi"
      },
      "outputs": [],
      "source": [
        "find_component(image_thresh)\n"
      ]
    },
    {
      "cell_type": "code",
      "execution_count": 20,
      "metadata": {
        "id": "2S30i36IYLmj",
        "colab": {
          "base_uri": "https://localhost:8080/"
        },
        "outputId": "8138c6bc-28bc-45c9-a87c-6bed15644483"
      },
      "outputs": [
        {
          "output_type": "stream",
          "name": "stderr",
          "text": [
            "WARNING:root:Lossy conversion from float64 to uint8. Range [0.0, 7.0]. Convert image to uint8 prior to saving to suppress this warning.\n"
          ]
        }
      ],
      "source": [
        "#Kayıt.\n",
        "io.imsave('4%s.pgm' % (foto),image_thresh)\n"
      ]
    },
    {
      "cell_type": "code",
      "execution_count": 21,
      "metadata": {
        "id": "ZcqEotlmYLmj",
        "colab": {
          "base_uri": "https://localhost:8080/"
        },
        "outputId": "6a665d6b-b0b9-4aa2-cad3-fa5e44accfa6"
      },
      "outputs": [
        {
          "output_type": "stream",
          "name": "stdout",
          "text": [
            "\n",
            "semboller görüntüsünde 4 komşuluk için component sayısı\n",
            "7.0\n",
            "\n"
          ]
        }
      ],
      "source": [
        "print('')\n",
        "print('%s görüntüsünde 4 komşuluk için component sayısı'% (foto))\n",
        "print(image_thresh.max())\n",
        "print('')\n",
        "\n"
      ]
    }
  ],
  "metadata": {
    "kernelspec": {
      "display_name": "Python 3",
      "language": "python",
      "name": "python3"
    },
    "language_info": {
      "codemirror_mode": {
        "name": "ipython",
        "version": 3
      },
      "file_extension": ".py",
      "mimetype": "text/x-python",
      "name": "python",
      "nbconvert_exporter": "python",
      "pygments_lexer": "ipython3",
      "version": "3.9.4"
    },
    "colab": {
      "name": "4_component_4neighbor).ipynb",
      "provenance": [],
      "collapsed_sections": []
    }
  },
  "nbformat": 4,
  "nbformat_minor": 0
}