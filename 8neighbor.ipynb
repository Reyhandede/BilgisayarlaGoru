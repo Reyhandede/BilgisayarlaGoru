{
  "cells": [
    {
      "cell_type": "markdown",
      "source": [
        "**semboller.pgm veya labirent.pgm için kulllanmak istediğinizde foto değişkeninin içeriğini değiştirin.**"
      ],
      "metadata": {
        "id": "Vl0vuY7WPSoj"
      }
    },
    {
      "cell_type": "code",
      "execution_count": 17,
      "metadata": {
        "id": "Wy6wtDZtr6Jj"
      },
      "outputs": [],
      "source": [
        "import numpy as np\n",
        "from skimage import io\n",
        "import sys\n",
        "sys.setrecursionlimit(500000)\n",
        "foto=\"labirent\""
      ]
    },
    {
      "cell_type": "code",
      "source": [
        "def readpgm(name):#pgm formatında olan resimleri okumak için yazılmış olan fonksiyon\n",
        "    with open(name) as f:\n",
        "        lines = f.readlines()\n",
        "\n",
        "    # Yorum satırlarını yok sayar.\n",
        "    for l in list(lines):\n",
        "        if l[0] == '#':\n",
        "            lines.remove(l)\n",
        "\n",
        "    # ASCII formatı (P2) olduğundan emin olur.\n",
        "    assert lines[0].strip() == 'P2' \n",
        "\n",
        "    # Verileri bir tamsayı listesine dönüştürür.\n",
        "    data = []\n",
        "    for line in lines[1:]:\n",
        "        data.extend([int(c) for c in line.split()])\n",
        "\n",
        "    return (np.array(data[3:]),(data[1],data[0]),data[2])"
      ],
      "metadata": {
        "id": "TQgasjCPsgdl"
      },
      "execution_count": 18,
      "outputs": []
    },
    {
      "cell_type": "code",
      "execution_count": 19,
      "metadata": {
        "id": "Gc8-Hw-Ir6Jp"
      },
      "outputs": [],
      "source": [
        "#Görüntüyü olumsuzlayın (1 pikselin tümünü –1 yapın)\n",
        "dirx = [+1,0,-1,0,-1,-1,+1,+1]\n",
        "diry = [0,+1,0,-1,-1,+1,+1,-1]\n",
        "data = readpgm('%s.pgm'%(foto))\n",
        "image=np.reshape(data[0],data[1])\n",
        "row, column = image.shape\n",
        "image_thresh = np.array(np.zeros([row,column]))\n",
        "for i in range(0,row):\n",
        "    for j in range(0,column):\n",
        "        if(image[i,j]>180):\n",
        "            image_thresh[i,j] = -1\n",
        "        else:\n",
        "            image_thresh[i,j] = 0"
      ]
    },
    {
      "cell_type": "code",
      "execution_count": 20,
      "metadata": {
        "id": "hdRet952r6Jr"
      },
      "outputs": [],
      "source": [
        "#–1 pikseli arayın ve bulun, etiketleyin ve komşu piksellerini (4- veya 8-) –1 ile bulun ve aynı etiketi atayın.\n",
        "def search(x,y,label):\n",
        "    if(x < 0 or x == row):\n",
        "        return;\n",
        "    if(y<0 or y == column):\n",
        "        return;\n",
        "    if( image_thresh[x,y]!=-1):\n",
        "        return;\n",
        "    image_thresh[x,y] = label\n",
        "    for dir in range(0,8):\n",
        "        search(x + dirx[dir],y + diry[dir],label)"
      ]
    },
    {
      "cell_type": "code",
      "execution_count": 21,
      "metadata": {
        "id": "cp0sqJjcr6Jr"
      },
      "outputs": [],
      "source": [
        "#Bileşenleri çözmek (birleştirmek veya bölmek) için yinelemeli olarak uygulayın.\n",
        "def find_component(image_thresh,label = 0):\n",
        "    for i in range(0,row):\n",
        "        for j in range(0,column):\n",
        "            if(image_thresh[i,j] == -1):\n",
        "                label = label + 1\n",
        "                search(i,j,label)"
      ]
    },
    {
      "cell_type": "code",
      "execution_count": 22,
      "metadata": {
        "id": "lzEPFLI_r6Js"
      },
      "outputs": [],
      "source": [
        "find_component(image_thresh)"
      ]
    },
    {
      "cell_type": "code",
      "execution_count": 23,
      "metadata": {
        "colab": {
          "base_uri": "https://localhost:8080/"
        },
        "id": "-BkhfGKhr6Jt",
        "outputId": "6587b048-7afd-44d1-8777-7db98f4545a0"
      },
      "outputs": [
        {
          "output_type": "stream",
          "name": "stderr",
          "text": [
            "WARNING:root:Lossy conversion from float64 to uint8. Range [0.0, 8.0]. Convert image to uint8 prior to saving to suppress this warning.\n"
          ]
        }
      ],
      "source": [
        "#Kayıt.\n",
        "io.imsave('8%s.pgm' % (foto),image_thresh)"
      ]
    },
    {
      "cell_type": "code",
      "execution_count": 24,
      "metadata": {
        "colab": {
          "base_uri": "https://localhost:8080/"
        },
        "id": "yH-VCSNqr6Ju",
        "outputId": "a54cf2e3-8d16-4ea3-c401-004194656cee"
      },
      "outputs": [
        {
          "output_type": "stream",
          "name": "stdout",
          "text": [
            "\n",
            "labirent görüntüsünde 8 komşuluk için component sayısı\n",
            "8.0\n",
            "\n"
          ]
        }
      ],
      "source": [
        "print('')\n",
        "print('%s görüntüsünde 8 komşuluk için component sayısı'% (foto))\n",
        "print(image_thresh.max())\n",
        "print('')"
      ]
    }
  ],
  "metadata": {
    "kernelspec": {
      "display_name": "Python 3",
      "language": "python",
      "name": "python3"
    },
    "language_info": {
      "codemirror_mode": {
        "name": "ipython",
        "version": 3
      },
      "file_extension": ".py",
      "mimetype": "text/x-python",
      "name": "python",
      "nbconvert_exporter": "python",
      "pygments_lexer": "ipython3",
      "version": "3.7.3"
    },
    "colab": {
      "name": "4_component_8neighbor_labirent.ipynb",
      "provenance": [],
      "collapsed_sections": []
    }
  },
  "nbformat": 4,
  "nbformat_minor": 0
}